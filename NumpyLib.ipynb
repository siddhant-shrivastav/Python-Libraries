{
 "cells": [
  {
   "cell_type": "code",
   "execution_count": 6,
   "id": "5aa4177b",
   "metadata": {},
   "outputs": [],
   "source": [
    "import numpy as np"
   ]
  },
  {
   "cell_type": "code",
   "execution_count": 7,
   "id": "88c98e20",
   "metadata": {},
   "outputs": [
    {
     "name": "stdout",
     "output_type": "stream",
     "text": [
      "[23 24 23 42]\n"
     ]
    }
   ],
   "source": [
    "# Creating Numpy Array\n",
    "a = np.array([23,24,23,42])\n",
    "print(a)"
   ]
  },
  {
   "cell_type": "code",
   "execution_count": 8,
   "id": "3f6a95b0",
   "metadata": {},
   "outputs": [
    {
     "name": "stdout",
     "output_type": "stream",
     "text": [
      "[34 54 24 53 43 33 42]\n",
      "<class 'numpy.ndarray'>\n"
     ]
    }
   ],
   "source": [
    "x = [34,54,24,53,43,33,42]\n",
    "a = np.array(x)\n",
    "print(a)\n",
    "print(type(a)) # for checking type"
   ]
  },
  {
   "cell_type": "code",
   "execution_count": 9,
   "id": "59bca9fb",
   "metadata": {},
   "outputs": [
    {
     "name": "stdout",
     "output_type": "stream",
     "text": [
      "Enter = \n"
     ]
    },
    {
     "ename": "ValueError",
     "evalue": "invalid literal for int() with base 10: ''",
     "output_type": "error",
     "traceback": [
      "\u001b[1;31m---------------------------------------------------------------------------\u001b[0m",
      "\u001b[1;31mValueError\u001b[0m                                Traceback (most recent call last)",
      "Cell \u001b[1;32mIn [9], line 3\u001b[0m\n\u001b[0;32m      1\u001b[0m l \u001b[38;5;241m=\u001b[39m []\n\u001b[0;32m      2\u001b[0m \u001b[38;5;28;01mfor\u001b[39;00m i \u001b[38;5;129;01min\u001b[39;00m \u001b[38;5;28mrange\u001b[39m(\u001b[38;5;241m1\u001b[39m,\u001b[38;5;241m6\u001b[39m):\n\u001b[1;32m----> 3\u001b[0m     int_1 \u001b[38;5;241m=\u001b[39m \u001b[38;5;28;43mint\u001b[39;49m\u001b[43m(\u001b[49m\u001b[38;5;28;43minput\u001b[39;49m\u001b[43m(\u001b[49m\u001b[38;5;124;43m\"\u001b[39;49m\u001b[38;5;124;43mEnter = \u001b[39;49m\u001b[38;5;124;43m\"\u001b[39;49m\u001b[43m)\u001b[49m\u001b[43m)\u001b[49m\n\u001b[0;32m      4\u001b[0m     l\u001b[38;5;241m.\u001b[39mappend(int_1)\n\u001b[0;32m      5\u001b[0m \u001b[38;5;28mprint\u001b[39m(np\u001b[38;5;241m.\u001b[39marray(l))\n",
      "\u001b[1;31mValueError\u001b[0m: invalid literal for int() with base 10: ''"
     ]
    }
   ],
   "source": [
    "l = []\n",
    "for i in range(1,6):\n",
    "    int_1 = int(input(\"Enter = \"))\n",
    "    l.append(int_1)\n",
    "print(np.array(l))"
   ]
  },
  {
   "cell_type": "code",
   "execution_count": 12,
   "id": "aea03238",
   "metadata": {},
   "outputs": [
    {
     "name": "stdout",
     "output_type": "stream",
     "text": [
      "[23 24 45 63 53]\n",
      "1\n"
     ]
    }
   ],
   "source": [
    "# 1-D Array.....\n",
    "\n",
    "a = np.array([23,24,45,63,53])\n",
    "print(a)\n",
    "print(a.ndim)"
   ]
  },
  {
   "cell_type": "code",
   "execution_count": 13,
   "id": "91d4f2a5",
   "metadata": {},
   "outputs": [
    {
     "name": "stdout",
     "output_type": "stream",
     "text": [
      "[[23 34]\n",
      " [54 64]\n",
      " [34 34]]\n",
      "2\n"
     ]
    }
   ],
   "source": [
    "# 2-D Array....\n",
    "a = np.array([[23,34],[54,64],[34,34]])\n",
    "print(a)\n",
    "print(a.ndim)"
   ]
  },
  {
   "cell_type": "code",
   "execution_count": 21,
   "id": "ffc874d4",
   "metadata": {},
   "outputs": [
    {
     "name": "stdout",
     "output_type": "stream",
     "text": [
      "[[[32 34 55]\n",
      "  [34 53 65]]\n",
      "\n",
      " [[23 24 34]\n",
      "  [34 34 54]]\n",
      "\n",
      " [[34 34 23]\n",
      "  [34 76 85]]]\n",
      "3\n"
     ]
    }
   ],
   "source": [
    "# 3-D Array\n",
    "ar3 = np.array([[[32,34,55],[34,53,65]],[[23,24,34],[34,34,54]],[[34,34,23],[34,76,85]]])\n",
    "print(ar3)\n",
    "print(ar3.ndim)"
   ]
  },
  {
   "cell_type": "code",
   "execution_count": 23,
   "id": "108735a2",
   "metadata": {},
   "outputs": [
    {
     "name": "stdout",
     "output_type": "stream",
     "text": [
      "[[[[[[23 43 43 55 74 56 75 56 43 34]]]]]]\n",
      "6\n"
     ]
    }
   ],
   "source": [
    "# n-D Array......\n",
    "arn = np.array([23,43,43,55,74,56,75,56,43,34],ndmin= 6)\n",
    "print(arn)\n",
    "print(arn.ndim)"
   ]
  },
  {
   "cell_type": "markdown",
   "id": "51b4f86a",
   "metadata": {},
   "source": [
    "# Create numpy array using Numpy Function.....\n"
   ]
  },
  {
   "cell_type": "code",
   "execution_count": 27,
   "id": "2912442f",
   "metadata": {},
   "outputs": [
    {
     "name": "stdout",
     "output_type": "stream",
     "text": [
      "[0. 0. 0. 0.]\n",
      "-----------------------------------\n",
      "[[0. 0. 0. 0.]\n",
      " [0. 0. 0. 0.]\n",
      " [0. 0. 0. 0.]]\n"
     ]
    }
   ],
   "source": [
    "# Creating array that contain zeros...\n",
    "\n",
    "ar_zero = np.zeros(4)\n",
    "print(ar_zero)\n",
    "print(\"-----------------------------------\")\n",
    "ar_zero1 = np.zeros((3,4))\n",
    "print(ar_zero1)\n",
    "\n",
    "\n"
   ]
  },
  {
   "cell_type": "code",
   "execution_count": 28,
   "id": "968f5651",
   "metadata": {},
   "outputs": [
    {
     "name": "stdout",
     "output_type": "stream",
     "text": [
      "[1. 1. 1. 1.]\n",
      "--------------------------------------\n",
      "[[1. 1. 1. 1.]\n",
      " [1. 1. 1. 1.]\n",
      " [1. 1. 1. 1.]]\n"
     ]
    }
   ],
   "source": [
    "# Creating array that contains Ones......\n",
    "ar_one = np.ones(4)\n",
    "print(ar_one)\n",
    "print(\"--------------------------------------\")\n",
    "ar_one1 = np.ones((3,4))\n",
    "print(ar_one1)"
   ]
  },
  {
   "cell_type": "code",
   "execution_count": 29,
   "id": "a5bd1bf4",
   "metadata": {},
   "outputs": [
    {
     "name": "stdout",
     "output_type": "stream",
     "text": [
      "[2 3 4 5 6 7]\n"
     ]
    }
   ],
   "source": [
    "a = np.arange(2,8)\n",
    "print(a)"
   ]
  },
  {
   "cell_type": "code",
   "execution_count": 31,
   "id": "1c97621b",
   "metadata": {},
   "outputs": [
    {
     "name": "stdout",
     "output_type": "stream",
     "text": [
      "[[1. 0. 0. 0. 0. 0.]\n",
      " [0. 1. 0. 0. 0. 0.]\n",
      " [0. 0. 1. 0. 0. 0.]\n",
      " [0. 0. 0. 1. 0. 0.]\n",
      " [0. 0. 0. 0. 1. 0.]\n",
      " [0. 0. 0. 0. 0. 1.]]\n"
     ]
    }
   ],
   "source": [
    "# Create an array that contain diagonal ones....\n",
    "a = np.eye(6,6)\n",
    "print(a)"
   ]
  },
  {
   "cell_type": "code",
   "execution_count": 34,
   "id": "12eed418",
   "metadata": {},
   "outputs": [
    {
     "name": "stdout",
     "output_type": "stream",
     "text": [
      "[ 0.  5. 10. 15. 20.]\n"
     ]
    }
   ],
   "source": [
    "# Linspace.....\n",
    "a = np.linspace(0,20 , num = 5)\n",
    "print(a)"
   ]
  },
  {
   "cell_type": "markdown",
   "id": "c5a4d1d9",
   "metadata": {},
   "source": [
    "# Random Functions..."
   ]
  },
  {
   "cell_type": "code",
   "execution_count": 35,
   "id": "9e1a5b21",
   "metadata": {},
   "outputs": [
    {
     "name": "stdout",
     "output_type": "stream",
     "text": [
      "[0.95675746 0.95878971 0.5451555  0.92862614 0.32224458]\n"
     ]
    }
   ],
   "source": [
    "# rand()... Its generates a random value b/w 0 to 1....\n",
    "r = np.random.rand(5)\n",
    "print(r)"
   ]
  },
  {
   "cell_type": "code",
   "execution_count": 36,
   "id": "bff8acfd",
   "metadata": {},
   "outputs": [
    {
     "name": "stdout",
     "output_type": "stream",
     "text": [
      "[-0.53936677 -0.67079411 -0.90283785 -0.13607981 -0.25702551]\n"
     ]
    }
   ],
   "source": [
    "# randn().... Its generatas a random value close to zero(Positive/Negative)...\n",
    "r1 = np.random.randn(5)\n",
    "print(r1)"
   ]
  },
  {
   "cell_type": "code",
   "execution_count": 41,
   "id": "cd27e6d9",
   "metadata": {},
   "outputs": [
    {
     "name": "stdout",
     "output_type": "stream",
     "text": [
      "[0.61030444 0.08458108 0.31884255 0.78400437 0.57964019]\n"
     ]
    }
   ],
   "source": [
    "# randf().... It returns an array if specified shape and fills it with random float in the half open interval(0.0, 1.0).\n",
    "r2 = np.random.ranf(5)\n",
    "print(r2)"
   ]
  },
  {
   "cell_type": "code",
   "execution_count": 43,
   "id": "12e40f78",
   "metadata": {},
   "outputs": [
    {
     "name": "stdout",
     "output_type": "stream",
     "text": [
      "[9 6 7 7 7]\n"
     ]
    }
   ],
   "source": [
    "# randint().... It generates a random number from given range...\n",
    "r3 = np.random.randint(0,10,5)\n",
    "print(r3)"
   ]
  },
  {
   "cell_type": "markdown",
   "id": "22ac69e2",
   "metadata": {},
   "source": [
    "# Data Types...."
   ]
  },
  {
   "cell_type": "code",
   "execution_count": 44,
   "id": "0b760521",
   "metadata": {},
   "outputs": [
    {
     "name": "stdout",
     "output_type": "stream",
     "text": [
      "[23 43 55 45]\n",
      "int32\n"
     ]
    }
   ],
   "source": [
    "# Check data type of array....\n",
    "ar = np.array([23,43,55,45])\n",
    "print(ar)\n",
    "print(ar.dtype)"
   ]
  },
  {
   "cell_type": "code",
   "execution_count": 46,
   "id": "ae158d13",
   "metadata": {},
   "outputs": [
    {
     "name": "stdout",
     "output_type": "stream",
     "text": [
      "[23. 43. 55. 45.]\n",
      "float32\n"
     ]
    }
   ],
   "source": [
    "# Change data type of array....\n",
    "ar_1 = np.array([23,43,55,45], dtype = \"f\")\n",
    "print(ar_1)\n",
    "print(ar.dtype)"
   ]
  },
  {
   "cell_type": "code",
   "execution_count": 50,
   "id": "ba01dfaa",
   "metadata": {},
   "outputs": [
    {
     "name": "stdout",
     "output_type": "stream",
     "text": [
      "[23 43 55 45]\n",
      "int32\n",
      "['23' '43' '55' '45']\n",
      "<U11\n"
     ]
    }
   ],
   "source": [
    "# Check data type of array....\n",
    "ar = np.array([23,43,55,45])\n",
    "new_1 = ar.astype(str)\n",
    "print(ar)\n",
    "print(ar.dtype)\n",
    "\n",
    "print(new_1)\n",
    "print(new_1.dtype)"
   ]
  },
  {
   "cell_type": "markdown",
   "id": "891d87a1",
   "metadata": {},
   "source": [
    "# Arithmetic Operations In Numpy Array.."
   ]
  },
  {
   "cell_type": "code",
   "execution_count": 51,
   "id": "25f28a07",
   "metadata": {},
   "outputs": [
    {
     "name": "stdout",
     "output_type": "stream",
     "text": [
      "[25 45 57 47]\n"
     ]
    }
   ],
   "source": [
    "ar = np.array([23,43,55,45])\n",
    "ar1 = ar+2\n",
    "print(ar1)"
   ]
  },
  {
   "cell_type": "code",
   "execution_count": 53,
   "id": "0896d017",
   "metadata": {},
   "outputs": [
    {
     "name": "stdout",
     "output_type": "stream",
     "text": [
      "[ 57  77 120 121]\n"
     ]
    }
   ],
   "source": [
    "ar = np.array([23,43,55,45])\n",
    "ar1 = np.array([34,34,65,76])\n",
    "s = ar+ar1\n",
    "print(s)\n"
   ]
  },
  {
   "cell_type": "code",
   "execution_count": 58,
   "id": "2a1749ae",
   "metadata": {},
   "outputs": [
    {
     "name": "stdout",
     "output_type": "stream",
     "text": [
      "[ 57  77 120 121]\n"
     ]
    }
   ],
   "source": [
    "ar = np.array([23,43,55,45])\n",
    "ar1 = np.array([34,34,65,76])\n",
    "s = np.add(ar,ar1)\n",
    "print(s)"
   ]
  },
  {
   "cell_type": "code",
   "execution_count": 54,
   "id": "0033190d",
   "metadata": {},
   "outputs": [
    {
     "name": "stdout",
     "output_type": "stream",
     "text": [
      "[21 41 53 43]\n"
     ]
    }
   ],
   "source": [
    "ar = np.array([23,43,55,45])\n",
    "ar1 = ar-2\n",
    "print(ar1)"
   ]
  },
  {
   "cell_type": "code",
   "execution_count": 61,
   "id": "a20d4a19",
   "metadata": {},
   "outputs": [
    {
     "name": "stdout",
     "output_type": "stream",
     "text": [
      "[-11   9 -10 -31]\n"
     ]
    }
   ],
   "source": [
    "ar = np.array([23,43,55,45])\n",
    "ar1 = np.array([34,34,65,76])\n",
    "s = np.subtract(ar,ar1)\n",
    "print(s)"
   ]
  },
  {
   "cell_type": "code",
   "execution_count": 55,
   "id": "d240a27c",
   "metadata": {},
   "outputs": [
    {
     "name": "stdout",
     "output_type": "stream",
     "text": [
      "[ 46  86 110  90]\n"
     ]
    }
   ],
   "source": [
    "ar = np.array([23,43,55,45])\n",
    "ar1 = ar*2\n",
    "print(ar1)"
   ]
  },
  {
   "cell_type": "code",
   "execution_count": 62,
   "id": "c0156d94",
   "metadata": {},
   "outputs": [
    {
     "name": "stdout",
     "output_type": "stream",
     "text": [
      "[ 782 1462 3575 3420]\n"
     ]
    }
   ],
   "source": [
    "ar = np.array([23,43,55,45])\n",
    "ar1 = np.array([34,34,65,76])\n",
    "s = np.multiply(ar,ar1)\n",
    "print(s)"
   ]
  },
  {
   "cell_type": "code",
   "execution_count": 56,
   "id": "02e6a6c5",
   "metadata": {},
   "outputs": [
    {
     "name": "stdout",
     "output_type": "stream",
     "text": [
      "[11.5 21.5 27.5 22.5]\n"
     ]
    }
   ],
   "source": [
    "ar = np.array([23,43,55,45])\n",
    "ar1 = ar/2\n",
    "print(ar1)"
   ]
  },
  {
   "cell_type": "code",
   "execution_count": 63,
   "id": "0fb5ca36",
   "metadata": {},
   "outputs": [
    {
     "name": "stdout",
     "output_type": "stream",
     "text": [
      "[0.67647059 1.26470588 0.84615385 0.59210526]\n"
     ]
    }
   ],
   "source": [
    "ar = np.array([23,43,55,45])\n",
    "ar1 = np.array([34,34,65,76])\n",
    "s = np.divide(ar,ar1)\n",
    "print(s)"
   ]
  },
  {
   "cell_type": "code",
   "execution_count": 57,
   "id": "4bffa055",
   "metadata": {},
   "outputs": [
    {
     "name": "stdout",
     "output_type": "stream",
     "text": [
      "[1 1 1 1]\n"
     ]
    }
   ],
   "source": [
    "ar = np.array([23,43,55,45])\n",
    "ar1 = ar%2\n",
    "print(ar1)"
   ]
  },
  {
   "cell_type": "code",
   "execution_count": 64,
   "id": "acd710bd",
   "metadata": {},
   "outputs": [
    {
     "name": "stdout",
     "output_type": "stream",
     "text": [
      "[23  9 55 45]\n"
     ]
    }
   ],
   "source": [
    "ar = np.array([23,43,55,45])\n",
    "ar1 = np.array([34,34,65,76])\n",
    "s = np.mod(ar,ar1)\n",
    "print(s)"
   ]
  },
  {
   "cell_type": "code",
   "execution_count": 65,
   "id": "fe78d534",
   "metadata": {},
   "outputs": [
    {
     "name": "stdout",
     "output_type": "stream",
     "text": [
      "[  845753105 -1563005767  1343374903  1061737009]\n"
     ]
    }
   ],
   "source": [
    "ar = np.array([23,43,55,45])\n",
    "ar1 = np.array([34,34,65,76])\n",
    "s = np.power(ar,ar1)\n",
    "print(s)"
   ]
  },
  {
   "cell_type": "code",
   "execution_count": 66,
   "id": "060e39b5",
   "metadata": {},
   "outputs": [
    {
     "name": "stdout",
     "output_type": "stream",
     "text": [
      "[0 0 0 0]\n"
     ]
    }
   ],
   "source": [
    "ar = np.array([23,43,55,45])\n",
    "ar1 = np.array([34,34,65,76])\n",
    "s = np.reciprocal(ar,ar1)\n",
    "print(s)"
   ]
  },
  {
   "cell_type": "code",
   "execution_count": 68,
   "id": "b6e84171",
   "metadata": {},
   "outputs": [
    {
     "name": "stdout",
     "output_type": "stream",
     "text": [
      "[[ 57  77]\n",
      " [120 121]\n",
      " [ 46 118]\n",
      " [141 101]]\n"
     ]
    }
   ],
   "source": [
    "# Arithmetic Operation for 2-D Array\n",
    "ar = np.array([[23,43],[55,45],[23,64],[66,45]])\n",
    "ar1 = np.array([[34,34],[65,76],[23,54],[75,56]])\n",
    "s = np.add(ar,ar1)\n",
    "print(s)"
   ]
  },
  {
   "cell_type": "markdown",
   "id": "d492d63d",
   "metadata": {},
   "source": [
    "# Arithmetic functions in Numpy Array...."
   ]
  },
  {
   "cell_type": "markdown",
   "id": "6aaa6861",
   "metadata": {},
   "source": [
    "# np.min(x)\n",
    "# np.max(x)\n",
    "# np.argmin(x)\n",
    "# np.sqrt(x)\n",
    "# np.sin(x)\n",
    "# np.cos(x)\n",
    "# np.cumsum(x)"
   ]
  },
  {
   "cell_type": "code",
   "execution_count": 70,
   "id": "b0e68035",
   "metadata": {},
   "outputs": [
    {
     "name": "stdout",
     "output_type": "stream",
     "text": [
      "Min :  1 0\n",
      "Max :  7 4\n"
     ]
    }
   ],
   "source": [
    "ar = np.array([1,3,5,6,7,4])\n",
    "print(\"Min : \",np.min(ar), np.argmin(ar))\n",
    "print(\"Max : \",np.max(ar), np.argmax(ar))"
   ]
  },
  {
   "cell_type": "code",
   "execution_count": 74,
   "id": "e19573a9",
   "metadata": {},
   "outputs": [
    {
     "name": "stdout",
     "output_type": "stream",
     "text": [
      "Min :  [1 3]\n",
      "Min :  [1 5 4]\n",
      "Max :  [7 6]\n",
      "Max :  [3 6 7]\n"
     ]
    }
   ],
   "source": [
    "ar = np.array([[1,3],[5,6],[7,4]])\n",
    "print(\"Min : \", np.min(ar,axis = 0))\n",
    "print(\"Min : \", np.min(ar,axis = 1))\n",
    "print(\"Max : \", np.max(ar,axis = 0))\n",
    "print(\"Max : \", np.max(ar,axis = 1))"
   ]
  },
  {
   "cell_type": "code",
   "execution_count": 75,
   "id": "2b0f5057",
   "metadata": {},
   "outputs": [
    {
     "name": "stdout",
     "output_type": "stream",
     "text": [
      "[[1.         1.73205081]\n",
      " [2.23606798 2.44948974]\n",
      " [2.64575131 2.        ]]\n"
     ]
    }
   ],
   "source": [
    "ar = np.array([[1,3],[5,6],[7,4]])\n",
    "print(np.sqrt(ar))"
   ]
  },
  {
   "cell_type": "code",
   "execution_count": 76,
   "id": "d5133742",
   "metadata": {},
   "outputs": [
    {
     "name": "stdout",
     "output_type": "stream",
     "text": [
      "[[ 0.84147098  0.14112001]\n",
      " [-0.95892427 -0.2794155 ]\n",
      " [ 0.6569866  -0.7568025 ]]\n"
     ]
    }
   ],
   "source": [
    "ar = np.array([[1,3],[5,6],[7,4]])\n",
    "print(np.sin(ar))"
   ]
  },
  {
   "cell_type": "code",
   "execution_count": 77,
   "id": "7c24ba17",
   "metadata": {},
   "outputs": [
    {
     "name": "stdout",
     "output_type": "stream",
     "text": [
      "[[ 0.54030231 -0.9899925 ]\n",
      " [ 0.28366219  0.96017029]\n",
      " [ 0.75390225 -0.65364362]]\n"
     ]
    }
   ],
   "source": [
    "ar = np.array([[1,3],[5,6],[7,4]])\n",
    "print(np.cos(ar))"
   ]
  },
  {
   "cell_type": "markdown",
   "id": "bcf7c53a",
   "metadata": {},
   "source": [
    "# Shape And Reshaping in Numpy Array...."
   ]
  },
  {
   "cell_type": "code",
   "execution_count": null,
   "id": "4c8b9015",
   "metadata": {},
   "outputs": [],
   "source": []
  }
 ],
 "metadata": {
  "kernelspec": {
   "display_name": "Python 3 (ipykernel)",
   "language": "python",
   "name": "python3"
  },
  "language_info": {
   "codemirror_mode": {
    "name": "ipython",
    "version": 3
   },
   "file_extension": ".py",
   "mimetype": "text/x-python",
   "name": "python",
   "nbconvert_exporter": "python",
   "pygments_lexer": "ipython3",
   "version": "3.10.10"
  }
 },
 "nbformat": 4,
 "nbformat_minor": 5
}
